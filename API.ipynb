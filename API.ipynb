{
  "nbformat": 4,
  "nbformat_minor": 0,
  "metadata": {
    "colab": {
      "name": "API .ipynb",
      "provenance": [],
      "collapsed_sections": [],
      "authorship_tag": "ABX9TyMuP8Yc2KNCdDZxKdS6q/mh",
      "include_colab_link": true
    },
    "kernelspec": {
      "name": "python3",
      "display_name": "Python 3"
    },
    "language_info": {
      "name": "python"
    }
  },
  "cells": [
    {
      "cell_type": "markdown",
      "metadata": {
        "id": "view-in-github",
        "colab_type": "text"
      },
      "source": [
        "<a href=\"https://colab.research.google.com/github/soujanya-vattikolla/API-for-beginners/blob/main/API.ipynb\" target=\"_parent\"><img src=\"https://colab.research.google.com/assets/colab-badge.svg\" alt=\"Open In Colab\"/></a>"
      ]
    },
    {
      "cell_type": "markdown",
      "source": [
        "**Media player API:**\n",
        "* The media player API is provided by the OS.\n",
        "* The media player API abstracts away needing to understand the details of how to send audio data to the hardware."
      ],
      "metadata": {
        "id": "6sDAC4-DqbAl"
      }
    },
    {
      "cell_type": "markdown",
      "source": [
        "**HTTP**\n",
        "* HyperText Transfer Protocol\n",
        "* Browser creates a HTTP request (GET will only receive data), then server sends back a response the client.\n",
        "* HTTP is a stateless protocol."
      ],
      "metadata": {
        "id": "Ao5lc6JW3j9f"
      }
    },
    {
      "cell_type": "markdown",
      "source": [
        "**REST**\n",
        "Representational State Transfer\n"
      ],
      "metadata": {
        "id": "V0Sv9eQC70JB"
      }
    },
    {
      "cell_type": "markdown",
      "source": [
        "**Resource**<br>\n",
        "It means referring an object.\n"
      ],
      "metadata": {
        "id": "CLm2jzaDMP4s"
      }
    },
    {
      "cell_type": "markdown",
      "source": [
        "What is Glitch app?<br>\n",
        "It builds faster full stack web application in the browser for free.\n"
      ],
      "metadata": {
        "id": "98Z671VuMWpJ"
      }
    }
  ]
}